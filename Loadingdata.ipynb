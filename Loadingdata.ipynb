{
 "cells": [
  {
   "cell_type": "code",
   "execution_count": 21,
   "id": "957402ee-f5b6-4804-b1c7-a0ca3ca88f9b",
   "metadata": {},
   "outputs": [],
   "source": [
    "import joblib\n",
    "import pandas as pd\n",
    "import tensorflow as tf\n",
    "import numpy as np"
   ]
  },
  {
   "cell_type": "code",
   "execution_count": 3,
   "id": "30a27283-3e86-480f-b149-266cb2c9e3cf",
   "metadata": {},
   "outputs": [],
   "source": [
    "df = pd.read_csv('D:/04_Lesson_IT/12_Data_Sicense/03_Machine_Learing/Project_ML/Dataset/diabetes_binary_5050split_health_indicators_BRFSS2015.csv')"
   ]
  },
  {
   "cell_type": "code",
   "execution_count": 13,
   "id": "d8c1e0d9-b7f1-4b43-936a-1c5ae4b65ad3",
   "metadata": {},
   "outputs": [
    {
     "name": "stderr",
     "output_type": "stream",
     "text": [
      "WARNING:absl:Compiled the loaded model, but the compiled metrics have yet to be built. `model.compile_metrics` will be empty until you train or evaluate the model.\n"
     ]
    }
   ],
   "source": [
    "model = tf.keras.models.load_model('model.h5')\n",
    "preprocessor = joblib.load('preprocessor.pkl')"
   ]
  },
  {
   "cell_type": "code",
   "execution_count": 27,
   "id": "e2f1760a-f99a-4caf-a05f-e77ec359a233",
   "metadata": {},
   "outputs": [],
   "source": [
    "def prediction(x):\n",
    "    x = preprocessor.fit_transform(df)\n",
    "    y_pred = model.predict(x)\n",
    "    y_pred1 = np.argmax(y_pred, axis=1)\n",
    "    y_pred1 = pd.DataFrame({'Outpu':y_pred1})\n",
    "    y_pred1 = y_pred1.replace({1:'Yes',0:'No'})\n",
    "    return y_pred1"
   ]
  },
  {
   "cell_type": "code",
   "execution_count": 29,
   "id": "0c09044c-7269-48b2-b8ac-2e343c77f91f",
   "metadata": {},
   "outputs": [
    {
     "name": "stdout",
     "output_type": "stream",
     "text": [
      "\u001b[1m2210/2210\u001b[0m \u001b[32m━━━━━━━━━━━━━━━━━━━━\u001b[0m\u001b[37m\u001b[0m \u001b[1m6s\u001b[0m 3ms/step\n"
     ]
    },
    {
     "data": {
      "text/html": [
       "<div>\n",
       "<style scoped>\n",
       "    .dataframe tbody tr th:only-of-type {\n",
       "        vertical-align: middle;\n",
       "    }\n",
       "\n",
       "    .dataframe tbody tr th {\n",
       "        vertical-align: top;\n",
       "    }\n",
       "\n",
       "    .dataframe thead th {\n",
       "        text-align: right;\n",
       "    }\n",
       "</style>\n",
       "<table border=\"1\" class=\"dataframe\">\n",
       "  <thead>\n",
       "    <tr style=\"text-align: right;\">\n",
       "      <th></th>\n",
       "      <th>Outpu</th>\n",
       "    </tr>\n",
       "  </thead>\n",
       "  <tbody>\n",
       "    <tr>\n",
       "      <th>0</th>\n",
       "      <td>No</td>\n",
       "    </tr>\n",
       "    <tr>\n",
       "      <th>1</th>\n",
       "      <td>Yes</td>\n",
       "    </tr>\n",
       "    <tr>\n",
       "      <th>2</th>\n",
       "      <td>No</td>\n",
       "    </tr>\n",
       "    <tr>\n",
       "      <th>3</th>\n",
       "      <td>Yes</td>\n",
       "    </tr>\n",
       "    <tr>\n",
       "      <th>4</th>\n",
       "      <td>No</td>\n",
       "    </tr>\n",
       "    <tr>\n",
       "      <th>...</th>\n",
       "      <td>...</td>\n",
       "    </tr>\n",
       "    <tr>\n",
       "      <th>70687</th>\n",
       "      <td>Yes</td>\n",
       "    </tr>\n",
       "    <tr>\n",
       "      <th>70688</th>\n",
       "      <td>Yes</td>\n",
       "    </tr>\n",
       "    <tr>\n",
       "      <th>70689</th>\n",
       "      <td>Yes</td>\n",
       "    </tr>\n",
       "    <tr>\n",
       "      <th>70690</th>\n",
       "      <td>Yes</td>\n",
       "    </tr>\n",
       "    <tr>\n",
       "      <th>70691</th>\n",
       "      <td>Yes</td>\n",
       "    </tr>\n",
       "  </tbody>\n",
       "</table>\n",
       "<p>70692 rows × 1 columns</p>\n",
       "</div>"
      ],
      "text/plain": [
       "      Outpu\n",
       "0        No\n",
       "1       Yes\n",
       "2        No\n",
       "3       Yes\n",
       "4        No\n",
       "...     ...\n",
       "70687   Yes\n",
       "70688   Yes\n",
       "70689   Yes\n",
       "70690   Yes\n",
       "70691   Yes\n",
       "\n",
       "[70692 rows x 1 columns]"
      ]
     },
     "execution_count": 29,
     "metadata": {},
     "output_type": "execute_result"
    }
   ],
   "source": [
    "prediction(x)"
   ]
  },
  {
   "cell_type": "code",
   "execution_count": 15,
   "id": "4ed50d37-0aa0-484d-b266-c11fcecba3be",
   "metadata": {},
   "outputs": [],
   "source": [
    "x = preprocessor.fit_transform(df)"
   ]
  },
  {
   "cell_type": "code",
   "execution_count": 17,
   "id": "4ad5c871-9eb1-4057-a666-dd33edb02c89",
   "metadata": {},
   "outputs": [
    {
     "name": "stdout",
     "output_type": "stream",
     "text": [
      "\u001b[1m2210/2210\u001b[0m \u001b[32m━━━━━━━━━━━━━━━━━━━━\u001b[0m\u001b[37m\u001b[0m \u001b[1m6s\u001b[0m 3ms/step\n"
     ]
    }
   ],
   "source": [
    "y_pred = model.predict(x)"
   ]
  },
  {
   "cell_type": "code",
   "execution_count": 19,
   "id": "3547e152-7282-42be-964c-01565a7f7cad",
   "metadata": {},
   "outputs": [
    {
     "data": {
      "text/plain": [
       "array([[0.6175395 , 0.28057864],\n",
       "       [0.32968816, 0.4953166 ],\n",
       "       [0.58968186, 0.33193907],\n",
       "       ...,\n",
       "       [0.14966284, 0.46403039],\n",
       "       [0.20450751, 0.47628072],\n",
       "       [0.21118954, 0.47948587]], dtype=float32)"
      ]
     },
     "execution_count": 19,
     "metadata": {},
     "output_type": "execute_result"
    }
   ],
   "source": [
    "y_pred"
   ]
  },
  {
   "cell_type": "code",
   "execution_count": 23,
   "id": "3d2d1e93-857d-432e-8ed3-7b8b3cb32ff1",
   "metadata": {},
   "outputs": [],
   "source": [
    "y_pred1 = np.argmax(y_pred, axis=1)"
   ]
  },
  {
   "cell_type": "code",
   "execution_count": 25,
   "id": "18c89a38-6ecc-4ea0-ba48-b46c35f4793d",
   "metadata": {},
   "outputs": [
    {
     "data": {
      "text/plain": [
       "array([0, 1, 0, ..., 1, 1, 1], dtype=int64)"
      ]
     },
     "execution_count": 25,
     "metadata": {},
     "output_type": "execute_result"
    }
   ],
   "source": [
    "y_pred1"
   ]
  },
  {
   "cell_type": "code",
   "execution_count": null,
   "id": "7f4abf94-dec2-4e9b-ae06-f6aa574cf0f0",
   "metadata": {},
   "outputs": [],
   "source": []
  }
 ],
 "metadata": {
  "kernelspec": {
   "display_name": "Python 3 (ipykernel)",
   "language": "python",
   "name": "python3"
  },
  "language_info": {
   "codemirror_mode": {
    "name": "ipython",
    "version": 3
   },
   "file_extension": ".py",
   "mimetype": "text/x-python",
   "name": "python",
   "nbconvert_exporter": "python",
   "pygments_lexer": "ipython3",
   "version": "3.12.4"
  }
 },
 "nbformat": 4,
 "nbformat_minor": 5
}
